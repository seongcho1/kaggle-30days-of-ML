{
 "cells": [
  {
   "cell_type": "code",
   "execution_count": 1,
   "id": "4e7e904b",
   "metadata": {
    "_cell_guid": "b1076dfc-b9ad-4769-8c92-a6c4dae69d19",
    "_uuid": "8f2839f25d086af736a60e9eeb907d3b93b6e0e5",
    "execution": {
     "iopub.execute_input": "2021-08-16T20:16:18.360034Z",
     "iopub.status.busy": "2021-08-16T20:16:18.358906Z",
     "iopub.status.idle": "2021-08-16T20:16:19.347479Z",
     "shell.execute_reply": "2021-08-16T20:16:19.348020Z",
     "shell.execute_reply.started": "2021-08-16T20:05:04.468564Z"
    },
    "papermill": {
     "duration": 0.999913,
     "end_time": "2021-08-16T20:16:19.348363",
     "exception": false,
     "start_time": "2021-08-16T20:16:18.348450",
     "status": "completed"
    },
    "tags": []
   },
   "outputs": [],
   "source": [
    "import numpy as np\n",
    "import pandas as pd\n",
    "from sklearn import model_selection"
   ]
  },
  {
   "cell_type": "code",
   "execution_count": 2,
   "id": "483cc5dd",
   "metadata": {
    "execution": {
     "iopub.execute_input": "2021-08-16T20:16:19.367001Z",
     "iopub.status.busy": "2021-08-16T20:16:19.366292Z",
     "iopub.status.idle": "2021-08-16T20:16:21.899666Z",
     "shell.execute_reply": "2021-08-16T20:16:21.900407Z",
     "shell.execute_reply.started": "2021-08-16T20:05:12.751687Z"
    },
    "papermill": {
     "duration": 2.544373,
     "end_time": "2021-08-16T20:16:21.900583",
     "exception": false,
     "start_time": "2021-08-16T20:16:19.356210",
     "status": "completed"
    },
    "tags": []
   },
   "outputs": [],
   "source": [
    "df_train = pd.read_csv(\"../input/30-days-of-ml/train.csv\")"
   ]
  },
  {
   "cell_type": "code",
   "execution_count": 3,
   "id": "c4803458",
   "metadata": {
    "execution": {
     "iopub.execute_input": "2021-08-16T20:16:21.917285Z",
     "iopub.status.busy": "2021-08-16T20:16:21.916271Z",
     "iopub.status.idle": "2021-08-16T20:16:21.927714Z",
     "shell.execute_reply": "2021-08-16T20:16:21.928260Z",
     "shell.execute_reply.started": "2021-08-16T20:09:04.546793Z"
    },
    "papermill": {
     "duration": 0.021284,
     "end_time": "2021-08-16T20:16:21.928434",
     "exception": false,
     "start_time": "2021-08-16T20:16:21.907150",
     "status": "completed"
    },
    "tags": []
   },
   "outputs": [],
   "source": [
    "df_train[\"kfold\"] = -1"
   ]
  },
  {
   "cell_type": "code",
   "execution_count": 4,
   "id": "8154946b",
   "metadata": {
    "execution": {
     "iopub.execute_input": "2021-08-16T20:16:21.944324Z",
     "iopub.status.busy": "2021-08-16T20:16:21.943269Z",
     "iopub.status.idle": "2021-08-16T20:16:22.001277Z",
     "shell.execute_reply": "2021-08-16T20:16:22.001833Z",
     "shell.execute_reply.started": "2021-08-16T20:09:46.1994Z"
    },
    "papermill": {
     "duration": 0.067433,
     "end_time": "2021-08-16T20:16:22.002006",
     "exception": false,
     "start_time": "2021-08-16T20:16:21.934573",
     "status": "completed"
    },
    "tags": []
   },
   "outputs": [],
   "source": [
    "kf = model_selection.KFold(n_splits=5, shuffle=True, random_state=42)\n",
    "for fold, (train_indicies, valid_indicies) in enumerate(kf.split(X=df_train)):\n",
    "    df_train.loc[valid_indicies, \"kfold\"] = fold"
   ]
  },
  {
   "cell_type": "code",
   "execution_count": 5,
   "id": "1225e364",
   "metadata": {
    "execution": {
     "iopub.execute_input": "2021-08-16T20:16:22.017392Z",
     "iopub.status.busy": "2021-08-16T20:16:22.016746Z",
     "iopub.status.idle": "2021-08-16T20:16:32.171368Z",
     "shell.execute_reply": "2021-08-16T20:16:32.171922Z",
     "shell.execute_reply.started": "2021-08-16T20:11:26.938013Z"
    },
    "papermill": {
     "duration": 10.163845,
     "end_time": "2021-08-16T20:16:32.172150",
     "exception": false,
     "start_time": "2021-08-16T20:16:22.008305",
     "status": "completed"
    },
    "tags": []
   },
   "outputs": [],
   "source": [
    "df_train.to_csv(\"train_folds.csv\", index=False)"
   ]
  },
  {
   "cell_type": "code",
   "execution_count": null,
   "id": "ca965566",
   "metadata": {
    "papermill": {
     "duration": 0.006026,
     "end_time": "2021-08-16T20:16:32.185213",
     "exception": false,
     "start_time": "2021-08-16T20:16:32.179187",
     "status": "completed"
    },
    "tags": []
   },
   "outputs": [],
   "source": []
  }
 ],
 "metadata": {
  "kernelspec": {
   "display_name": "Python 3",
   "language": "python",
   "name": "python3"
  },
  "language_info": {
   "codemirror_mode": {
    "name": "ipython",
    "version": 3
   },
   "file_extension": ".py",
   "mimetype": "text/x-python",
   "name": "python",
   "nbconvert_exporter": "python",
   "pygments_lexer": "ipython3",
   "version": "3.7.10"
  },
  "papermill": {
   "default_parameters": {},
   "duration": 22.670851,
   "end_time": "2021-08-16T20:16:33.424500",
   "environment_variables": {},
   "exception": null,
   "input_path": "__notebook__.ipynb",
   "output_path": "__notebook__.ipynb",
   "parameters": {},
   "start_time": "2021-08-16T20:16:10.753649",
   "version": "2.3.3"
  }
 },
 "nbformat": 4,
 "nbformat_minor": 5
}

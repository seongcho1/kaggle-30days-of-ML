{
 "cells": [
  {
   "cell_type": "code",
   "execution_count": 1,
   "id": "3d6ac877",
   "metadata": {
    "_cell_guid": "b1076dfc-b9ad-4769-8c92-a6c4dae69d19",
    "_uuid": "8f2839f25d086af736a60e9eeb907d3b93b6e0e5",
    "execution": {
     "iopub.execute_input": "2021-08-17T18:05:58.517021Z",
     "iopub.status.busy": "2021-08-17T18:05:58.515846Z",
     "iopub.status.idle": "2021-08-17T18:05:59.867750Z",
     "shell.execute_reply": "2021-08-17T18:05:59.868320Z",
     "shell.execute_reply.started": "2021-08-17T18:01:51.283042Z"
    },
    "papermill": {
     "duration": 1.363293,
     "end_time": "2021-08-17T18:05:59.868612",
     "exception": false,
     "start_time": "2021-08-17T18:05:58.505319",
     "status": "completed"
    },
    "tags": []
   },
   "outputs": [],
   "source": [
    "# Familiar imports\n",
    "import numpy as np\n",
    "import pandas as pd\n",
    "\n",
    "# For ordinal encoding categorical variables, splitting data\n",
    "from sklearn.preprocessing import OrdinalEncoder\n",
    "from sklearn.model_selection import train_test_split\n",
    "\n",
    "# For training random forest model\n",
    "from sklearn.ensemble import RandomForestRegressor\n",
    "from xgboost import XGBRegressor\n",
    "from sklearn.metrics import mean_squared_error"
   ]
  },
  {
   "cell_type": "code",
   "execution_count": 2,
   "id": "90c22c5a",
   "metadata": {
    "execution": {
     "iopub.execute_input": "2021-08-17T18:05:59.884745Z",
     "iopub.status.busy": "2021-08-17T18:05:59.884058Z",
     "iopub.status.idle": "2021-08-17T18:06:04.715002Z",
     "shell.execute_reply": "2021-08-17T18:06:04.714468Z",
     "shell.execute_reply.started": "2021-08-17T18:02:45.276457Z"
    },
    "papermill": {
     "duration": 4.839934,
     "end_time": "2021-08-17T18:06:04.715170",
     "exception": false,
     "start_time": "2021-08-17T18:05:59.875236",
     "status": "completed"
    },
    "tags": []
   },
   "outputs": [],
   "source": [
    "df = pd.read_csv(\"../input/30days-folds/train_folds.csv\")\n",
    "df_test = pd.read_csv(\"../input/30-days-of-ml/test.csv\")#, index_col=0)\n",
    "sample_submission = pd.read_csv(\"../input/30-days-of-ml/sample_submission.csv\")"
   ]
  },
  {
   "cell_type": "code",
   "execution_count": 3,
   "id": "b020a485",
   "metadata": {
    "execution": {
     "iopub.execute_input": "2021-08-17T18:06:04.730708Z",
     "iopub.status.busy": "2021-08-17T18:06:04.730035Z",
     "iopub.status.idle": "2021-08-17T18:06:04.779418Z",
     "shell.execute_reply": "2021-08-17T18:06:04.778806Z",
     "shell.execute_reply.started": "2021-08-17T18:02:51.102410Z"
    },
    "papermill": {
     "duration": 0.058281,
     "end_time": "2021-08-17T18:06:04.779589",
     "exception": false,
     "start_time": "2021-08-17T18:06:04.721308",
     "status": "completed"
    },
    "tags": []
   },
   "outputs": [],
   "source": [
    "useful_features = [col for col in df.columns if col not in (\"id\", \"target\", \"kfold\")]\n",
    "object_cols = [col for col in useful_features if 'cat' in col]  \n",
    "df_test = df_test[useful_features]"
   ]
  },
  {
   "cell_type": "code",
   "execution_count": 4,
   "id": "16e6eac9",
   "metadata": {
    "execution": {
     "iopub.execute_input": "2021-08-17T18:06:04.804528Z",
     "iopub.status.busy": "2021-08-17T18:06:04.803593Z",
     "iopub.status.idle": "2021-08-17T18:33:21.265268Z",
     "shell.execute_reply": "2021-08-17T18:33:21.265872Z"
    },
    "papermill": {
     "duration": 1636.480385,
     "end_time": "2021-08-17T18:33:21.266114",
     "exception": false,
     "start_time": "2021-08-17T18:06:04.785729",
     "status": "completed"
    },
    "tags": []
   },
   "outputs": [
    {
     "name": "stdout",
     "output_type": "stream",
     "text": [
      "0 encoding\n",
      "0 training\n",
      "0 0.7256159896306812\n",
      "1 encoding\n",
      "1 training\n",
      "1 0.724865787292573\n",
      "2 encoding\n",
      "2 training\n",
      "2 0.7263758004558226\n",
      "3 encoding\n",
      "3 training\n",
      "3 0.7265575202706804\n",
      "4 encoding\n",
      "4 training\n",
      "4 0.7257019338736931\n"
     ]
    }
   ],
   "source": [
    "final_predictions = []\n",
    "for fold in range(5):\n",
    "    xtrain = df[df.kfold != fold].reset_index(drop=True)\n",
    "    xvalid = df[df.kfold == fold].reset_index(drop=True)\n",
    "    xtest = df_test.copy()\n",
    "    \n",
    "    ytrain = xtrain.target\n",
    "    yvalid = xvalid.target\n",
    "    \n",
    "    xtrain = xtrain[useful_features]\n",
    "    xvalid = xvalid[useful_features]\n",
    "\n",
    "    print(fold, \"encoding\")\n",
    "    ordinal_encoder = OrdinalEncoder()   \n",
    "    xtrain[object_cols] = ordinal_encoder.fit_transform(xtrain[object_cols])\n",
    "    xvalid[object_cols] = ordinal_encoder.transform(xvalid[object_cols])\n",
    "    xtest[object_cols] = ordinal_encoder.transform(xtest[object_cols])\n",
    "    \n",
    "    print(fold, \"training\")\n",
    "    rf_model = RandomForestRegressor(random_state=fold, n_jobs=-1)# verbose=10,)\n",
    "    rf_model.fit(xtrain, ytrain)\n",
    "    xgb_model = XGBRegressor(random_state=fold, n_jobs=-1)\n",
    "    xgb_model.fit(xtrain, ytrain) # Your code here\n",
    "    #model = XGBRegressor(n_estimators=500, learning_rate=0.05, n_jobs=4, random_state=fold)\n",
    "    #model.fit(xtrain, ytrain, \n",
    "    #             early_stopping_rounds=5, \n",
    "    #             eval_set=[(xvalid, yvalid)], \n",
    "    #             verbose=False) # Your code here\n",
    "    \n",
    "    rf_preds_valid = rf_model.predict(xvalid)\n",
    "    rf_preds_test = rf_model.predict(xtest)\n",
    "    \n",
    "    xgb_preds_valid = xgb_model.predict(xvalid)\n",
    "    xgb_preds_test = xgb_model.predict(xtest)\n",
    "    \n",
    "    preds_valid = (rf_preds_valid + xgb_preds_valid)/2\n",
    "    preds_test = (rf_preds_test + xgb_preds_test)/2\n",
    "    \n",
    "    final_predictions.append(preds_test)\n",
    "    print(fold, mean_squared_error(yvalid, preds_valid, squared=False))"
   ]
  },
  {
   "cell_type": "code",
   "execution_count": 5,
   "id": "860f6a2c",
   "metadata": {
    "execution": {
     "iopub.execute_input": "2021-08-17T18:33:21.294636Z",
     "iopub.status.busy": "2021-08-17T18:33:21.292770Z",
     "iopub.status.idle": "2021-08-17T18:33:21.308581Z",
     "shell.execute_reply": "2021-08-17T18:33:21.309184Z"
    },
    "papermill": {
     "duration": 0.033289,
     "end_time": "2021-08-17T18:33:21.309364",
     "exception": false,
     "start_time": "2021-08-17T18:33:21.276075",
     "status": "completed"
    },
    "tags": []
   },
   "outputs": [],
   "source": [
    "np.column_stack(final_predictions).shape\n",
    "preds = np.mean(np.column_stack(final_predictions), axis = 1)"
   ]
  },
  {
   "cell_type": "code",
   "execution_count": 6,
   "id": "7fefce99",
   "metadata": {
    "execution": {
     "iopub.execute_input": "2021-08-17T18:33:21.335740Z",
     "iopub.status.busy": "2021-08-17T18:33:21.334928Z",
     "iopub.status.idle": "2021-08-17T18:33:22.134668Z",
     "shell.execute_reply": "2021-08-17T18:33:22.135202Z"
    },
    "papermill": {
     "duration": 0.816327,
     "end_time": "2021-08-17T18:33:22.135420",
     "exception": false,
     "start_time": "2021-08-17T18:33:21.319093",
     "status": "completed"
    },
    "tags": []
   },
   "outputs": [],
   "source": [
    "sample_submission.target = preds\n",
    "sample_submission.to_csv('submission.csv', index=False)"
   ]
  }
 ],
 "metadata": {
  "kernelspec": {
   "display_name": "Python 3",
   "language": "python",
   "name": "python3"
  },
  "language_info": {
   "codemirror_mode": {
    "name": "ipython",
    "version": 3
   },
   "file_extension": ".py",
   "mimetype": "text/x-python",
   "name": "python",
   "nbconvert_exporter": "python",
   "pygments_lexer": "ipython3",
   "version": "3.7.10"
  },
  "papermill": {
   "default_parameters": {},
   "duration": 1652.969924,
   "end_time": "2021-08-17T18:33:23.057913",
   "environment_variables": {},
   "exception": null,
   "input_path": "__notebook__.ipynb",
   "output_path": "__notebook__.ipynb",
   "parameters": {},
   "start_time": "2021-08-17T18:05:50.087989",
   "version": "2.3.3"
  }
 },
 "nbformat": 4,
 "nbformat_minor": 5
}
